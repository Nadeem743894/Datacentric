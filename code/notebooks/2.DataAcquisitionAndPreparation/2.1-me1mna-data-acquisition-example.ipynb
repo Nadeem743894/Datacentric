{
 "cells": [
  {
   "cell_type": "code",
   "execution_count": null,
   "metadata": {},
   "outputs": [],
   "source": [
    "import pandas as pd\n",
    "import matplotlib.pyplot as plt\n",
    "from mpl_toolkits.mplot3d import Axes3D\n",
    "import matplotlib.dates as mdates\n",
    "import mplcursors\n",
    "import numpy as np\n",
    "import matplotlib.cm as cm\n",
    "%matplotlib notebook\n",
    "plt.ion()\n",
    "from sklearn.cluster import KMeans\n",
    "import seaborn as sns\n",
    "import plotly.graph_objects as go\n",
    "from plotly import tools\n",
    "from plotly.subplots import make_subplots\n",
    "import plotly.offline as py\n",
    "\n",
    "# Configure display options\n",
    "pd.set_option('display.max_rows', None)     # To display all rows\n",
    "pd.set_option('display.max_columns', None)  # To display all columns"
   ]
  },
  {
   "cell_type": "code",
   "execution_count": null,
   "metadata": {},
   "outputs": [],
   "source": [
    "df = pd.read_csv('B737MAX-8-M-03.csv')\n",
    "sim=df['Sensor Name'][0]"
   ]
  },
  {
   "cell_type": "code",
   "execution_count": null,
   "metadata": {},
   "outputs": [],
   "source": [
    "print(sim)"
   ]
  },
  {
   "cell_type": "code",
   "execution_count": null,
   "metadata": {},
   "outputs": [],
   "source": [
    "df.head()"
   ]
  },
  {
   "cell_type": "code",
   "execution_count": null,
   "metadata": {},
   "outputs": [],
   "source": [
    "df.shape"
   ]
  },
  {
   "cell_type": "code",
   "execution_count": null,
   "metadata": {},
   "outputs": [],
   "source": [
    "#df.drop([:-4], axis=0, inplace=True)\n",
    "\n",
    "if sim=='B737MAX-8-M-03':\n",
    "    df=df[:-4]\n",
    "else:\n",
    "    df=df"
   ]
  },
  {
   "cell_type": "code",
   "execution_count": null,
   "metadata": {},
   "outputs": [],
   "source": [
    "df.shape"
   ]
  },
  {
   "cell_type": "code",
   "execution_count": null,
   "metadata": {},
   "outputs": [],
   "source": [
    "df.tail(10)"
   ]
  },
  {
   "cell_type": "code",
   "execution_count": null,
   "metadata": {},
   "outputs": [],
   "source": [
    "df.info(verbose=True)"
   ]
  },
  {
   "cell_type": "code",
   "execution_count": null,
   "metadata": {},
   "outputs": [],
   "source": [
    "#new columns names based 'Raw Data' order\n",
    "col_name=['phase1_avg','phase1_max','phase1_min','phase1_duty','phase2_avg','phase2_max','phase2_min','phase2_duty','phase3_avg','phase3_max','phase3_min','phase3_duty','value_Ah','sensor_state']\n",
    "\n",
    "#split and convert it into list\n",
    "split_values = df['Raw Data'].str.split('|').tolist()\n",
    "\n",
    "# Create new columns in the DataFrame\n",
    "for i, col_values in enumerate(zip(*split_values)):\n",
    "    df[col_name[i]] = [float(val) for val in col_values]\n",
    "\n",
    "    \n",
    "df = df.rename(columns={'Date': 'Timestamp' }) \n",
    "df[['Date', 'Time']] = df['Timestamp'].str.split(' ', 1, expand=True)    \n",
    "df['Timestamp'] = pd.to_datetime(df['Timestamp'])\n",
    "df['Date'] = pd.to_datetime(df['Date'])\n",
    "# Extract the number of seconds since midnight from the 'Time' column\n",
    "df['Time'] = pd.to_datetime(df['Time']).dt.hour * 3600 + \\\n",
    "             pd.to_datetime(df['Time']).dt.minute * 60 #+ \\\n",
    "             #pd.to_datetime(df['Time']).dt.second\n",
    "    \n",
    "# Display the updated DataFrame\n",
    "df.head()"
   ]
  },
  {
   "cell_type": "code",
   "execution_count": null,
   "metadata": {},
   "outputs": [],
   "source": [
    "df.info(verbose=True)"
   ]
  },
  {
   "cell_type": "code",
   "execution_count": null,
   "metadata": {},
   "outputs": [],
   "source": [
    "df.set_index('Timestamp', inplace=True)\n",
    "weekly_consumption = df['Value'].resample('W').mean()\n",
    "\n",
    "# Plot the weekly consumption trends\n",
    "plt.figure(figsize=(10, 6))\n",
    "weekly_consumption.plot(marker='o')\n",
    "plt.xlabel('Week')\n",
    "plt.ylabel('Average Consumption')\n",
    "plt.title('Weekly Consumption Trends')\n",
    "image_name = f\"{sim}_weekly Current Consumption.png\"\n",
    "plt.savefig (image_name)\n",
    "plt.grid(True)\n",
    "plt.show()"
   ]
  },
  {
   "cell_type": "code",
   "execution_count": null,
   "metadata": {},
   "outputs": [],
   "source": [
    "# Calculate daily consumption\n",
    "daily_consumption = df['Value']\n",
    "\n",
    "# Create the histogram\n",
    "plt.figure(figsize=(10, 6))\n",
    "plt.hist(daily_consumption, bins=40,range=(0, 15), edgecolor='black')\n",
    "plt.xlabel('Daily Consumption (Ah)')\n",
    "plt.ylabel('Frequency')\n",
    "plt.title('Histogram of RMS Value')\n",
    "image_name = f\"{sim}_Histogram of RMS Value.png\"\n",
    "plt.savefig (image_name)\n",
    "plt.grid(True)\n",
    "plt.show()"
   ]
  },
  {
   "cell_type": "code",
   "execution_count": null,
   "metadata": {},
   "outputs": [],
   "source": [
    "# Calculate daily consumption\n",
    "daily_consumption = df['phase1_avg']\n",
    "\n",
    "# Create the histogram\n",
    "plt.figure(figsize=(10, 6), dpi=100)\n",
    "plt.hist(daily_consumption, bins=20, edgecolor='black')\n",
    "#plt.xticks(range(0,250, 10))\n",
    "plt.xlabel('Daily Consumption (Ah)- Phase 1')\n",
    "plt.ylabel('Frequency')\n",
    "plt.title('Histogram of Daily Consumption')\n",
    "plt.grid(True)\n",
    "image_name = f\"{sim}_Histogram of Daily Consumption.png\"\n",
    "plt.savefig (image_name)\n",
    "plt.show()"
   ]
  },
  {
   "cell_type": "code",
   "execution_count": null,
   "metadata": {},
   "outputs": [],
   "source": [
    "# Create a 3D plot\n",
    "fig = plt.figure(figsize=(5, 3), dpi=200)\n",
    "ax = fig.add_subplot(111, projection='3d')\n",
    "\n",
    "\n",
    "ax.set_xlabel('Date')\n",
    "ax.set_ylabel('Time')\n",
    "ax.set_zlabel('Current Consumption')\n",
    "x = mdates.date2num(df['Date'])\n",
    "ax.set_zlim(0, 15)\n",
    "ax.set_ylim(0, 24)  # Change the range to 0-24 hours\n",
    "# Plot the 3D scatter plot\n",
    "ax.scatter(x, df['Time']/3600, df['Value'])\n",
    "\n",
    "# Format the 'Date' axis with date labels\n",
    "date_formatter = mdates.DateFormatter('%Y-%m-%d')\n",
    "ax.xaxis.set_major_formatter(date_formatter)\n",
    "fig.autofmt_xdate()\n",
    "ax.tick_params(axis='x', labelsize=12)\n",
    "ax.tick_params(axis='y', labelsize=6)\n",
    "ax.tick_params(axis='z', labelsize=10)\n",
    "image_name = f\"{sim}_current consumption.png\"\n",
    "plt.savefig (image_name)\n",
    "# Show the plot\n",
    "plt.show()"
   ]
  },
  {
   "cell_type": "code",
   "execution_count": null,
   "metadata": {},
   "outputs": [],
   "source": [
    "# Create a 3D plot\n",
    "fig = plt.figure(figsize=(5, 3), dpi=300)\n",
    "ax = fig.add_subplot(111, projection='3d')\n",
    "\n",
    "\n",
    "ax.set_xlabel('Date')\n",
    "ax.set_ylabel('Time (hrs)')\n",
    "ax.set_zlabel('Current Consumption (A)')\n",
    "x = mdates.date2num(df['Date'])\n",
    "ax.set_zlim(0, 25)\n",
    "ax.set_ylim(0, 24)  # Change the range to 0-24 hours\n",
    "# Plot the 3D scatter plot\n",
    "#ax.scatter(x, df['Time']/3600, df['phase1_avg'])\n",
    "phase1=ax.scatter(x, df['Time']/3600, df['phase1_avg'], label='Phase 1')\n",
    "phase2=ax.scatter(x, df['Time']/3600, df['phase2_avg'], label='Phase 2')\n",
    "phase3=ax.scatter(x, df['Time']/3600, df['phase3_avg'], label='Phase 3')\n",
    "\n",
    "# Format the 'Date' axis with date labels\n",
    "date_formatter = mdates.DateFormatter('%Y-%m-%d')\n",
    "ax.xaxis.set_major_formatter(date_formatter)\n",
    "fig.autofmt_xdate()\n",
    "ax.tick_params(axis='x', labelsize=6)\n",
    "ax.tick_params(axis='y', labelsize=6)\n",
    "ax.tick_params(axis='z', labelsize=6)\n",
    "ax.legend(handles=[phase1, phase2, phase3])\n",
    "\n",
    "ax.legend(loc='center left', bbox_to_anchor=(1, 0.5))\n",
    "plt.tight_layout()\n",
    "image_name = f\"{sim}_3D plot of total Current Consumption.png\"\n",
    "plt.savefig (image_name)\n",
    "# Show the plot\n",
    "plt.show()"
   ]
  },
  {
   "cell_type": "code",
   "execution_count": null,
   "metadata": {},
   "outputs": [],
   "source": [
    "df.plot(y=['phase1_avg', 'phase2_avg', 'phase3_avg'], figsize=(10, 6))\n",
    "\n",
    "# Set the title and labels\n",
    "plt.title('Three Phases')\n",
    "plt.xlabel('Date')\n",
    "plt.ylabel('Value (A)')\n",
    "\n",
    "plt.tight_layout()\n",
    "\n",
    "#plt.savefig('Three Phases.png', dpi=800)\n",
    "image_name = f\"{sim}_Three phase plot.png\"\n",
    "plt.savefig (image_name)\n",
    "# Display the chart\n",
    "plt.show()"
   ]
  },
  {
   "cell_type": "code",
   "execution_count": null,
   "metadata": {},
   "outputs": [],
   "source": [
    "df['phase1-2']= df['phase1_avg']-df['phase2_avg']\n",
    "df['phase2-3']= df['phase2_avg']-df['phase3_avg']\n",
    "df['phase1-3']= df['phase1_avg']-df['phase3_avg']"
   ]
  },
  {
   "cell_type": "code",
   "execution_count": null,
   "metadata": {},
   "outputs": [],
   "source": [
    "df.plot(y=['phase1-2', 'phase2-3', 'phase1-3', 'phase1_avg', 'phase2_avg', 'phase3_avg'], figsize=(10, 6))\n",
    "\n",
    "# Set the title and labels\n",
    "plt.title('Three Phases diffrence plot')\n",
    "plt.xlabel('Date')\n",
    "plt.ylabel('Value (A)')\n",
    "\n",
    "plt.tight_layout()\n",
    "\n",
    "#plt.savefig('Three Phases.png', dpi=800)\n",
    "image_name = f\"{sim}_Three phase difference plot.png\"\n",
    "plt.savefig (image_name)\n",
    "# Display the chart\n",
    "plt.show()"
   ]
  },
  {
   "cell_type": "code",
   "execution_count": null,
   "metadata": {},
   "outputs": [],
   "source": [
    "df.plot(y=['phase1_max', 'phase2_max', 'phase3_max'], figsize=(10, 6))\n",
    "\n",
    "# Set the title and labels\n",
    "plt.title('Three Phases max ')\n",
    "plt.xlabel('Date')\n",
    "plt.ylabel('Value (A)')\n",
    "\n",
    "plt.tight_layout()\n",
    "\n",
    "#plt.savefig('Three Phases max.png', dpi=800)\n",
    "image_name = f\"{sim}_Three phases max.png\"\n",
    "plt.savefig (image_name)\n",
    "# Display the chart\n",
    "plt.show()"
   ]
  },
  {
   "cell_type": "code",
   "execution_count": null,
   "metadata": {},
   "outputs": [],
   "source": [
    "# Calculate daily hourly averages\n",
    "df_avg = df.groupby([df.index.date, df['Time'] / 3600])['Value'].mean().reset_index()\n",
    "df_avg.columns = ['Date', 'Hour', 'Average']\n",
    "\n",
    "# Plot the daily hourly averages\n",
    "fig, ax = plt.subplots(figsize=(10, 6))\n",
    "\n",
    "# Iterate over the unique dates and plot the hourly averages\n",
    "lines = []\n",
    "for date in df_avg['Date'].unique():\n",
    "    data = df_avg[df_avg['Date'] == date]\n",
    "    line, = ax.plot(data['Hour'], data['Average'], label=str(date))\n",
    "    lines.append(line)\n",
    "\n",
    "# Create hover events for each line using mplcursors\n",
    "mplcursors.cursor(lines).connect(\"add\", lambda sel: sel.annotation.set_text(sel.artist.get_label()))\n",
    "\n",
    "# Set the labels and title\n",
    "ax.set_xlabel('Hour')\n",
    "ax.set_ylabel('Value (Ah)')\n",
    "ax.set_title('Daily Hourly Averages Total RMS Current')\n",
    "ax.set_xticks(range(25))\n",
    "\n",
    "# Add a legend\n",
    "ax.legend(loc='center left', bbox_to_anchor=(1, 0.5), fontsize=7)\n",
    "\n",
    "# Set the same limits for both x and y axes\n",
    "ax.set_xlim(0, 24)\n",
    "ax.set_ylim(0, 10)  # Adjust the limits based on your data\n",
    "\n",
    "plt.tight_layout()\n",
    "image_name = f\"{sim}_Daily Hourly Average Total RMS Current.png\"\n",
    "plt.savefig (image_name)\n",
    "# Show the plot\n",
    "plt.show()"
   ]
  },
  {
   "cell_type": "code",
   "execution_count": null,
   "metadata": {},
   "outputs": [],
   "source": [
    "# Plot the daily hourly averages\n",
    "fig, ax = plt.subplots(figsize=(10, 6))\n",
    "\n",
    "# Iterate over the unique dates and plot the hourly averages\n",
    "lines = []\n",
    "for date in df_avg['Date'].unique():\n",
    "    data = df_avg[df_avg['Date'] == date]\n",
    "    line, = ax.plot(data['Hour'], data['Average'], label=str(date), color='black', alpha=0.10, linewidth=1.5)\n",
    "    lines.append(line)\n",
    "\n",
    "# Create hover events for each line using mplcursors\n",
    "mplcursors.cursor(lines).connect(\"add\", lambda sel: sel.annotation.set_text(sel.artist.get_label()))\n",
    "\n",
    "# Set the labels and title\n",
    "ax.set_xlabel('Hour')\n",
    "ax.set_ylabel('Value (Ah)')\n",
    "ax.set_title('Daily Hourly Average Total RMS Current')\n",
    "ax.set_xticks(range(25))\n",
    "\n",
    "# Add a legend\n",
    "#ax.legend(loc='center left', bbox_to_anchor=(1, 0.5))\n",
    "\n",
    "# Set the same limits for both x and y axes\n",
    "ax.set_xlim(0, 24)\n",
    "ax.set_ylim(0, 15)  # Adjust the limits based on your data\n",
    "\n",
    "plt.tight_layout()\n",
    "image_name = f\"{sim}_Daily Hourly Average Total RMS Current_reduced transparency.png\"\n",
    "plt.savefig (image_name)\n",
    "# Show the plot\n",
    "plt.show()"
   ]
  },
  {
   "cell_type": "code",
   "execution_count": null,
   "metadata": {},
   "outputs": [],
   "source": [
    "# Calculate daily hourly averages\n",
    "df_avg = df.groupby([df.index.date, df['Time'] / 3600])['phase1_max'].mean().reset_index()\n",
    "df_avg.columns = ['Date', 'Hour', 'Average']\n",
    "\n",
    "# Plot the daily hourly averages\n",
    "fig, ax = plt.subplots(figsize=(10, 6))\n",
    "\n",
    "# Iterate over the unique dates and plot the hourly averages\n",
    "lines = []\n",
    "for date in df_avg['Date'].unique():\n",
    "    data = df_avg[df_avg['Date'] == date]\n",
    "    line, = ax.plot(data['Hour'], data['Average'], label=str(date))\n",
    "    lines.append(line)\n",
    "\n",
    "# Create hover events for each line using mplcursors\n",
    "mplcursors.cursor(lines).connect(\"add\", lambda sel: sel.annotation.set_text(sel.artist.get_label()))\n",
    "\n",
    "# Set the labels and title\n",
    "ax.set_xlabel('Hour')\n",
    "ax.set_ylabel('Value (Ah)')\n",
    "ax.set_title('Daily Hourly Averages phase1 max')\n",
    "ax.set_xticks(range(25))\n",
    "\n",
    "# Add a legend\n",
    "ax.legend(loc='center left', bbox_to_anchor=(1, 0.5))\n",
    "\n",
    "# Set the same limits for both x and y axes\n",
    "ax.set_xlim(0, 24)\n",
    "ax.set_ylim(0, 80)  # Adjust the limits based on your data\n",
    "\n",
    "plt.tight_layout()\n",
    "image_name = f\"{sim}_Daily Hourly Averages phase1 max.png\"\n",
    "plt.savefig (image_name)\n",
    "# Show the plot\n",
    "plt.show()"
   ]
  },
  {
   "cell_type": "code",
   "execution_count": null,
   "metadata": {},
   "outputs": [],
   "source": [
    "# Calculate daily hourly averages\n",
    "df_avg = df.groupby([df.index.date, df['Time'] / 3600])['phase2_max'].mean().reset_index()\n",
    "df_avg.columns = ['Date', 'Hour', 'Average']\n",
    "\n",
    "# Plot the daily hourly averages\n",
    "fig, ax = plt.subplots(figsize=(10, 6))\n",
    "\n",
    "# Iterate over the unique dates and plot the hourly averages\n",
    "lines = []\n",
    "for date in df_avg['Date'].unique():\n",
    "    data = df_avg[df_avg['Date'] == date]\n",
    "    line, = ax.plot(data['Hour'], data['Average'], label=str(date))\n",
    "    lines.append(line)\n",
    "\n",
    "# Create hover events for each line using mplcursors\n",
    "mplcursors.cursor(lines).connect(\"add\", lambda sel: sel.annotation.set_text(sel.artist.get_label()))\n",
    "\n",
    "# Set the labels and title\n",
    "ax.set_xlabel('Hour')\n",
    "ax.set_ylabel('Value (Ah)')\n",
    "ax.set_title('Daily Hourly Averages phase2 max')\n",
    "ax.set_xticks(range(25))\n",
    "\n",
    "# Add a legend\n",
    "ax.legend(loc='center left', bbox_to_anchor=(1, 0.5))\n",
    "\n",
    "# Set the same limits for both x and y axes\n",
    "ax.set_xlim(0, 24)\n",
    "ax.set_ylim(0, 60)  # Adjust the limits based on your data\n",
    "\n",
    "plt.tight_layout()\n",
    "image_name = f\"{sim}_Daily Hourly Average of Phase2 max.png\"\n",
    "plt.savefig (image_name)\n",
    "# Show the plot\n",
    "plt.show()"
   ]
  },
  {
   "cell_type": "code",
   "execution_count": null,
   "metadata": {},
   "outputs": [],
   "source": [
    "# Calculate daily hourly averages\n",
    "df_avg = df.groupby([df.index.date, df['Time'] / 3600])['phase3_max'].mean().reset_index()\n",
    "df_avg.columns = ['Date', 'Hour', 'Average']\n",
    "\n",
    "# Plot the daily hourly averages\n",
    "fig, ax = plt.subplots(figsize=(10, 6))\n",
    "\n",
    "# Iterate over the unique dates and plot the hourly averages\n",
    "lines = []\n",
    "for date in df_avg['Date'].unique():\n",
    "    data = df_avg[df_avg['Date'] == date]\n",
    "    line, = ax.plot(data['Hour'], data['Average'], label=str(date))\n",
    "    lines.append(line)\n",
    "\n",
    "# Create hover events for each line using mplcursors\n",
    "mplcursors.cursor(lines).connect(\"add\", lambda sel: sel.annotation.set_text(sel.artist.get_label()))\n",
    "\n",
    "# Set the labels and title\n",
    "ax.set_xlabel('Hour')\n",
    "ax.set_ylabel('Value (Ah)')\n",
    "ax.set_title('Daily Hourly Averages phase3 max')\n",
    "ax.set_xticks(range(25))\n",
    "\n",
    "# Add a legend\n",
    "ax.legend(loc='center left', bbox_to_anchor=(1, 0.5))\n",
    "\n",
    "# Set the same limits for both x and y axes\n",
    "ax.set_xlim(0, 24)\n",
    "ax.set_ylim(0, 60)  # Adjust the limits based on your data\n",
    "\n",
    "plt.tight_layout()\n",
    "image_name = f\"{sim}_Daily Hourly averages phase3 max.png\"\n",
    "plt.savefig (image_name)\n",
    "# Show the plot\n",
    "plt.show()"
   ]
  },
  {
   "cell_type": "code",
   "execution_count": null,
   "metadata": {},
   "outputs": [],
   "source": [
    "import seaborn as sns\n",
    "df_hourly = df.resample('H').mean()\n",
    "#plt.figure(figsize=(12, 6))  # Adjust the figure size as needed\n",
    "\n",
    "df_pivot = df_hourly.pivot_table(index=df_hourly.index.date, columns=df_hourly.index.hour, values='Value')\n",
    "\n",
    "# Create a heatmap using seaborn\n",
    "plt.figure(figsize=(12, 6))  # Adjust the figure size as needed\n",
    "sns.heatmap(df_pivot, cmap='inferno')\n",
    "\n",
    "# Set labels and title\n",
    "plt.xlabel('Hour of the Day')\n",
    "plt.ylabel('Date')\n",
    "plt.title('Current Consumption Heatmap')\n",
    "plt.tight_layout()\n",
    "image_name = f\"{sim}_current consumption Heatmap.png\"\n",
    "plt.savefig (image_name)\n",
    "\n",
    "# Display the heatmap\n",
    "plt.show()"
   ]
  },
  {
   "cell_type": "code",
   "execution_count": null,
   "metadata": {},
   "outputs": [],
   "source": [
    "df_hourly = df.resample('H').mean()\n",
    "#plt.figure(figsize=(12, 6))  # Adjust the figure size as needed\n",
    "\n",
    "df_pivot = df_hourly.pivot_table(index=df_hourly.index.date, columns=df_hourly.index.hour, values='phase1_max')\n",
    "\n",
    "# Create a heatmap using seaborn\n",
    "plt.figure(figsize=(12, 6))  # Adjust the figure size as needed\n",
    "sns.heatmap(df_pivot, cmap='inferno')\n",
    "\n",
    "# Set labels and title\n",
    "plt.xlabel('Hour of the Day')\n",
    "plt.ylabel('Date')\n",
    "plt.title('Current Consumption Heatmap for phase1-max')\n",
    "plt.tight_layout()\n",
    "image_name = f\"{sim}_current consumption Heatmap for phase1.png\"\n",
    "plt.savefig (image_name)\n",
    "\n",
    "# Display the heatmap\n",
    "plt.show()"
   ]
  },
  {
   "cell_type": "code",
   "execution_count": null,
   "metadata": {},
   "outputs": [],
   "source": [
    "# Calculate the number of days since the earliest date\n",
    "df['Day'] = (df['Date'] - df['Date'].min()).dt.days\n",
    "df.head(10)"
   ]
  },
  {
   "cell_type": "code",
   "execution_count": null,
   "metadata": {},
   "outputs": [],
   "source": [
    "idx=df.columns.get_loc(\"Value\")\n",
    "print(\"Column Index : \"+ str(idx))"
   ]
  },
  {
   "cell_type": "code",
   "execution_count": null,
   "metadata": {},
   "outputs": [],
   "source": [
    "# create two dimentional matrix \n",
    "x=df.loc[:,['Day', 'Value']].values"
   ]
  },
  {
   "cell_type": "code",
   "execution_count": null,
   "metadata": {},
   "outputs": [],
   "source": [
    "# find the optimal number of clusters using elbow method\n",
    "\n",
    "WCSS = []\n",
    "for i in range(1,11):\n",
    "    model = KMeans(n_clusters = i,init = 'k-means++')\n",
    "    model.fit(x)\n",
    "    WCSS.append(model.inertia_)\n",
    "fig = plt.figure(figsize = (7,7))\n",
    "plt.plot(range(1,11),WCSS, linewidth=4, markersize=12,marker='o',color = 'green')\n",
    "plt.xticks(np.arange(11))\n",
    "plt.title('Kmeans optimal cluster analysis')\n",
    "plt.xlabel(\"Number of clusters\")\n",
    "plt.ylabel(\"WCSS\")\n",
    "image_name = f\"{sim}_Kmeans Cluster Size prediction.png\"\n",
    "plt.savefig (image_name)\n",
    "plt.show()"
   ]
  },
  {
   "cell_type": "code",
   "execution_count": null,
   "metadata": {},
   "outputs": [],
   "source": [
    "from sklearn.metrics import silhouette_score\n",
    "range_n_clusters = [2, 3, 4, 5, 6, 7, 8]\n",
    "silhouette_avg = []\n",
    "for num_clusters in range_n_clusters:\n",
    " \n",
    " # initialise kmeans\n",
    " kmeans = KMeans(n_clusters=num_clusters)\n",
    " kmeans.fit(x)\n",
    " cluster_labels = kmeans.labels_\n",
    " \n",
    " # silhouette score\n",
    " silhouette_avg.append(silhouette_score(x, cluster_labels))\n",
    "fig = plt.figure(figsize = (7,7))\n",
    "plt.plot(range_n_clusters,silhouette_avg,'bx-')\n",
    "plt.xlabel('Values of K') \n",
    "plt.ylabel('Silhouette score') \n",
    "plt.title('Silhouette analysis For Optimal k')\n",
    "image_name = f\"{sim}_Silhoute score for Kmeans Cluster.png\"\n",
    "plt.savefig (image_name)\n",
    "plt.show()"
   ]
  },
  {
   "cell_type": "code",
   "execution_count": null,
   "metadata": {},
   "outputs": [],
   "source": [
    "# since elbow occured at 3, hence the optimal number of clusters for the mall data is 3 \n",
    "\n",
    "model = KMeans(n_clusters = 2, init = \"k-means++\", max_iter = 300, n_init = 10, random_state = 0)\n",
    "y_clusters = model.fit_predict(x)"
   ]
  },
  {
   "cell_type": "code",
   "execution_count": null,
   "metadata": {},
   "outputs": [],
   "source": [
    "plt.figure(figsize = (10,5))\n",
    "plt.scatter(x[y_clusters == 0,0],x[y_clusters == 0,1],s = 50, c = 'green')\n",
    "plt.scatter(x[y_clusters == 1,0],x[y_clusters == 1,1],s = 50, c = 'blue')\n",
    "#plt.scatter(x[y_clusters == 2,0],x[y_clusters == 2,1],s = 50, c = 'black')\n",
    "#plt.scatter(x[y_clusters == 3,0],x[y_clusters == 3,1],s = 50, c = 'red')\n",
    "#plt.scatter(x[y_clusters == 4,0],x[y_clusters == 4,1],s = 50, c = 'pink')\n",
    "plt.scatter(model.cluster_centers_[:,0],model.cluster_centers_[:,1], s = 100, c = \"yellow\", label = \"centroids\")\n",
    "plt.xlabel(\"Dates\")\n",
    "plt.ylabel(\"Current consumption \")\n",
    "plt.legend()\n",
    "image_name = f\"{sim}_Kmeans 2D clustering.png\"\n",
    "plt.savefig (image_name)\n",
    "plt.show()"
   ]
  },
  {
   "cell_type": "code",
   "execution_count": null,
   "metadata": {},
   "outputs": [],
   "source": [
    "df['time_hours']=df['Time']/3600"
   ]
  },
  {
   "cell_type": "code",
   "execution_count": null,
   "metadata": {},
   "outputs": [],
   "source": [
    "#include third variable and make prediction with time number of days and current value\n",
    "x1 = df[['Day','Value','time_hours']].values"
   ]
  },
  {
   "cell_type": "code",
   "execution_count": null,
   "metadata": {},
   "outputs": [],
   "source": [
    "# find the optimal number of clusters using elbow method  -- >This is for 3 features = [age,anual income,spending score]\n",
    "\n",
    "WCSSs = []\n",
    "for i in range(1,11):\n",
    "    model = KMeans(n_clusters = i,init = 'k-means++')\n",
    "    model.fit(x1)\n",
    "    WCSSs.append(model.inertia_)\n",
    "fig = plt.figure(figsize = (7,7))\n",
    "plt.plot(range(1,11),WCSSs, linewidth=4, markersize=12,marker='o',color = 'red')\n",
    "plt.xticks(np.arange(11))\n",
    "plt.xlabel(\"Number of clusters\")\n",
    "plt.ylabel(\"WCSSs\")\n",
    "image_name = f\"{sim}_Kmeans 3d cluster analysis.png\"\n",
    "plt.savefig (image_name)\n",
    "plt.show()"
   ]
  },
  {
   "cell_type": "code",
   "execution_count": null,
   "metadata": {},
   "outputs": [],
   "source": [
    "range_n_clusters = [2, 3, 4, 5, 6, 7, 8]\n",
    "silhouette_avg = []\n",
    "for num_clusters in range_n_clusters:\n",
    " \n",
    " # initialise kmeans\n",
    " kmeans = KMeans(n_clusters=num_clusters)\n",
    " kmeans.fit(x1)\n",
    " cluster_labels = kmeans.labels_\n",
    " \n",
    " # silhouette score\n",
    " silhouette_avg.append(silhouette_score(x1, cluster_labels))\n",
    "fig = plt.figure(figsize = (7,7))\n",
    "plt.plot(range_n_clusters,silhouette_avg,'bx-')\n",
    "plt.xlabel('Values of K') \n",
    "plt.ylabel('Silhouette score') \n",
    "plt.title('Silhouette analysis For Optimal k')\n",
    "image_name = f\"{sim}_Kmeans 3d cluster Silhoutte score.png\"\n",
    "plt.savefig (image_name)\n",
    "plt.show()"
   ]
  },
  {
   "cell_type": "code",
   "execution_count": null,
   "metadata": {},
   "outputs": [],
   "source": []
  },
  {
   "cell_type": "code",
   "execution_count": null,
   "metadata": {},
   "outputs": [],
   "source": [
    "# finding the clusters based on input matrix \"x\"\n",
    "model = KMeans(n_clusters = 4, init = \"k-means++\", max_iter = 300, n_init = 10, random_state = 0)\n",
    "y_clusters = model.fit_predict(x1)"
   ]
  },
  {
   "cell_type": "code",
   "execution_count": null,
   "metadata": {},
   "outputs": [],
   "source": [
    "# 3d scatterplot using matplotlib\n",
    "\n",
    "fig = plt.figure(figsize = (10,5))\n",
    "ax = fig.add_subplot(111, projection='3d')\n",
    "ax.scatter(x1[y_clusters == 0,0],x1[y_clusters == 0,1],x1[y_clusters == 0,2], s = 10 , color = 'blue')\n",
    "ax.scatter(x1[y_clusters == 1,0],x1[y_clusters == 1,1],x1[y_clusters == 1,2], s = 10 , color = 'orange')\n",
    "ax.scatter(x1[y_clusters == 2,0],x1[y_clusters == 2,1],x1[y_clusters == 2,2], s = 10 , color = 'green')\n",
    "ax.scatter(x1[y_clusters == 3,0],x1[y_clusters == 3,1],x1[y_clusters == 3,2], s = 10 , color = 'Red')\n",
    "#ax.scatter(x[y_clusters == 4,0],x[y_clusters == 4,1],x[y_clusters == 4,2], s = 40 , color = 'purple', label = \"cluster 4\")\n",
    "ax.set_xlabel('Days')\n",
    "ax.set_ylabel('Currrent consumption')\n",
    "ax.set_zlabel('Time')\n",
    "image_name = f\"{sim}_Kmeans 3d clustering.png\"\n",
    "plt.savefig (image_name)\n",
    "ax.legend()\n",
    "plt.show()"
   ]
  },
  {
   "cell_type": "code",
   "execution_count": null,
   "metadata": {},
   "outputs": [],
   "source": [
    "from sklearn.cluster import DBSCAN\n",
    "df1=df[['Day', 'Value']]\n",
    "Day, Value = df.Day, df.Value\n",
    "X=df1.to_numpy()\n",
    "dbscan_cluster_model =DBSCAN(eps=0.21842105263157896, min_samples=13).fit(X)\n",
    "dbscan_cluster_model"
   ]
  },
  {
   "cell_type": "code",
   "execution_count": null,
   "metadata": {},
   "outputs": [],
   "source": [
    "df['dbscan clusters']=dbscan_cluster_model.labels_"
   ]
  },
  {
   "cell_type": "code",
   "execution_count": null,
   "metadata": {},
   "outputs": [],
   "source": [
    "df['dbscan clusters'].value_counts()"
   ]
  },
  {
   "cell_type": "code",
   "execution_count": null,
   "metadata": {},
   "outputs": [],
   "source": [
    "import plotly.express as px\n",
    "fig = px.scatter(x=Day, y= Value, color=df['dbscan clusters'])\n",
    "fig.show()"
   ]
  },
  {
   "cell_type": "code",
   "execution_count": null,
   "metadata": {},
   "outputs": [],
   "source": [
    "from sklearn.metrics import silhouette_score as ss\n",
    "ss(X,df['dbscan clusters'])"
   ]
  },
  {
   "cell_type": "code",
   "execution_count": null,
   "metadata": {},
   "outputs": [],
   "source": [
    "epsilon= np.linspace(0.01,1,num=20)\n",
    "epsilon"
   ]
  },
  {
   "cell_type": "code",
   "execution_count": null,
   "metadata": {},
   "outputs": [],
   "source": [
    "min_samples=np.arange(1,20, step=2)\n",
    "min_samples\n",
    "import itertools \n",
    "combinations =list(itertools.product(epsilon, min_samples))\n",
    "combinations\n",
    "N=len(combinations)\n",
    "N\n",
    "def get_scores_and_labels(combinations, X):\n",
    "  scores = []\n",
    "  all_labels_list = []\n",
    "\n",
    "  for i, (eps, num_samples) in enumerate(combinations):\n",
    "    dbscan_cluster_model = DBSCAN(eps=eps, min_samples=num_samples).fit(X)\n",
    "    labels = dbscan_cluster_model.labels_\n",
    "    labels_set = set(labels)\n",
    "    num_clusters = len(labels_set)\n",
    "    if -1 in labels_set:\n",
    "      num_clusters -= 1\n",
    "    \n",
    "    if (num_clusters < 2) or (num_clusters > 50):\n",
    "      scores.append(-10)\n",
    "      all_labels_list.append('bad')\n",
    "      c = (eps, num_samples)\n",
    "      print(f\"Combination {c} on iteration {i+1} of {N} has {num_clusters} clusters. Moving on\")\n",
    "      continue\n",
    "    \n",
    "    scores.append(ss(X, labels))\n",
    "    all_labels_list.append(labels)\n",
    "    print(f\"Index: {i}, Score: {scores[-1]}, Labels: {all_labels_list[-1]}, NumClusters: {num_clusters}\")\n",
    "\n",
    "  best_index = np.argmax(scores)\n",
    "  best_parameters = combinations[best_index]\n",
    "  best_labels = all_labels_list[best_index]\n",
    "  best_score = scores[best_index]\n",
    "\n",
    "  return {'best_epsilon': best_parameters[0],\n",
    "          'best_min_samples': best_parameters[1], \n",
    "          'best_labels': best_labels,\n",
    "          'best_score': best_score}\n",
    "\n",
    "best_dict = get_scores_and_labels(combinations, X)"
   ]
  }
 ],
 "metadata": {
  "language_info": {
   "name": "python"
  }
 },
 "nbformat": 4,
 "nbformat_minor": 2
}
